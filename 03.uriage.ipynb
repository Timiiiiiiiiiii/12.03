{
 "cells": [
  {
   "cell_type": "code",
   "execution_count": null,
   "metadata": {},
   "outputs": [],
   "source": [
    "import pandas as pd"
   ]
  },
  {
   "cell_type": "code",
   "execution_count": null,
   "metadata": {},
   "outputs": [],
   "source": [
    "uriage = pd.read_csv(\"../csv/uriage.csv\")\n",
    "uriage"
   ]
  },
  {
   "cell_type": "markdown",
   "metadata": {},
   "source": [
    "1. item_name의 데이터를 모두 대문자로 변경\n",
    "2. item_name의 문자열 사이의 공백을 모두 제거\n",
    "3. item_price의 결측치를 모두 특정한 조건에 맞춰서 대체"
   ]
  },
  {
   "cell_type": "code",
   "execution_count": null,
   "metadata": {},
   "outputs": [],
   "source": [
    "# 문자열 내장함수 문자를 대문자로 변경하는 함수\n",
    "a = 'Hello World'\n",
    "print(a.upper())\n",
    "print(a.lower())"
   ]
  },
  {
   "cell_type": "code",
   "execution_count": null,
   "metadata": {},
   "outputs": [],
   "source": [
    "b = \"  Hello World  \"\n",
    "# 좌우의 공백을 제거하는 함수 (strip())\n",
    "b.strip()"
   ]
  },
  {
   "cell_type": "code",
   "execution_count": null,
   "metadata": {},
   "outputs": [],
   "source": [
    "# 문자열 사이의 공백도 모두 제거 ( replace({기존의 문자열}, {변경될 문자열})  )\n",
    "b. replace(' ','')"
   ]
  },
  {
   "cell_type": "code",
   "execution_count": null,
   "metadata": {},
   "outputs": [],
   "source": [
    "# item_name의 공백을 제거\n",
    "uriage['item_name'].str.replace(' ','') #앞에 str붙이면 변경됨"
   ]
  },
  {
   "cell_type": "code",
   "execution_count": null,
   "metadata": {},
   "outputs": [],
   "source": [
    "uriage['item_name'].str.upper() #앞에 str붙이면 변경됨"
   ]
  },
  {
   "cell_type": "code",
   "execution_count": null,
   "metadata": {},
   "outputs": [],
   "source": [
    "# map 함수\n",
    "a_list = [1,5,7]\n",
    "\n",
    "def change(x):\n",
    "    return x ** 2\n",
    "\n",
    "change(3)"
   ]
  },
  {
   "cell_type": "code",
   "execution_count": null,
   "metadata": {},
   "outputs": [],
   "source": [
    "list(\n",
    "    map(\n",
    "        change,\n",
    "        a_list\n",
    "    )\n",
    ")"
   ]
  },
  {
   "cell_type": "code",
   "execution_count": null,
   "metadata": {},
   "outputs": [],
   "source": [
    "list(\n",
    "    map(\n",
    "        lambda x : x ** 2,\n",
    "        a_list\n",
    "    )\n",
    ")"
   ]
  },
  {
   "cell_type": "code",
   "execution_count": null,
   "metadata": {},
   "outputs": [],
   "source": [
    "# Series에서 map함수와 비슷한 기능을 가진 함수가 존재\n",
    "# apply(함수명|lambda함수)\n",
    "\n",
    "def change(x):\n",
    "    print(x)\n",
    "    \n",
    "uriage['item_name'].apply(change)\n"
   ]
  },
  {
   "cell_type": "code",
   "execution_count": null,
   "metadata": {},
   "outputs": [],
   "source": [
    "def change(x):\n",
    "    print(type(x))\n",
    "    \n",
    "uriage['item_name'].apply(change)"
   ]
  },
  {
   "cell_type": "code",
   "execution_count": null,
   "metadata": {},
   "outputs": [],
   "source": [
    "def change(x):\n",
    "    # x는 데이터의 타입이 문자열\n",
    "    # 문자열 내장함수들을 이용 가능\n",
    "    # print(type(x))\n",
    "    result = x.upper()\n",
    "    result = result.replace(' ','')\n",
    "    return result\n",
    "    \n",
    "uriage['item_name'].apply(change)"
   ]
  },
  {
   "cell_type": "code",
   "execution_count": null,
   "metadata": {},
   "outputs": [],
   "source": [
    "def change(x):\n",
    "    # x는 데이터의 타입이 문자열\n",
    "    # 문자열 내장함수들을 이용 가능\n",
    "    # print(type(x))\n",
    "    # result = x.upper()\n",
    "    # result = result.replace(' ','')\n",
    "    result = x.upper().replace(' ','')\n",
    "    return result\n",
    "    \n",
    "uriage['item_name'].apply(change)"
   ]
  },
  {
   "cell_type": "code",
   "execution_count": null,
   "metadata": {},
   "outputs": [],
   "source": [
    "uriage['item_name'].str.upper() #->의 답은 쓰리지"
   ]
  },
  {
   "cell_type": "code",
   "execution_count": null,
   "metadata": {},
   "outputs": [],
   "source": [
    "uriage['item_name'].str.upper().replace\n"
   ]
  },
  {
   "cell_type": "code",
   "execution_count": 50,
   "metadata": {},
   "outputs": [],
   "source": [
    "# apply + Lambda\n",
    "uriage['item_name'] = uriage['item_name'].apply(\n",
    "    lambda x :x.upper().replace(' ','')\n",
    ")"
   ]
  },
  {
   "cell_type": "code",
   "execution_count": null,
   "metadata": {},
   "outputs": [],
   "source": [
    "# 반복문으로 대문자 변환, 공백 \n",
    "\n",
    "# 인덱스가 0이고 컬럼이 item_name인 경우\n",
    "# uriage.loc[0, 'item_name'] # 0부터 길이가 긴만큼\n",
    "_list = []\n",
    "for i in range(0, len(uriage), 1):\n",
    "    # print(uriage.loc[i, 'item_name'])\n",
    "    data"
   ]
  },
  {
   "cell_type": "code",
   "execution_count": null,
   "metadata": {},
   "outputs": [],
   "source": [
    "for i in range(len(uriage)):\n",
    "    data = uriage.loc.[i, 'item_name']\n",
    "    result = data.upper().replace(' ','')\n",
    "    uriage.loc[i,'item_name'] = result"
   ]
  },
  {
   "cell_type": "code",
   "execution_count": null,
   "metadata": {},
   "outputs": [],
   "source": [
    "# 상품 A라면 item_price는 결측치를 제외하고 100으로 고정\n",
    "\n",
    "# 상품 a이고 결측치가 아닌 데이어의 item_price의 평균\n",
    "\n",
    "# 상품 a에서 t==  item_price가 결측치인 데이터에서 결측치를 평균값으로 대체"
   ]
  },
  {
   "cell_type": "code",
   "execution_count": null,
   "metadata": {},
   "outputs": [],
   "source": [
    "# 첫번째 조건식 (item_prid)"
   ]
  },
  {
   "cell_type": "code",
   "execution_count": null,
   "metadata": {},
   "outputs": [],
   "source": [
    "# 두번째 조건식 (item_price가 결측치인 경우)\n",
    "flag_null = uriage['item_price'].isna()"
   ]
  },
  {
   "cell_type": "code",
   "execution_count": null,
   "metadata": {},
   "outputs": [],
   "source": [
    "~flag_null"
   ]
  },
  {
   "cell_type": "code",
   "execution_count": null,
   "metadata": {},
   "outputs": [],
   "source": [
    "mean_data = uriage.loc[flag & ~flag_null, 'item_price'].mean()"
   ]
  },
  {
   "cell_type": "code",
   "execution_count": null,
   "metadata": {},
   "outputs": [],
   "source": [
    "# item_name이 상품A이고 item_price가 결측치가 아닌 평균을\n",
    "# item_name이 상품A이고 item_price가 결측치인 부분에 대입\n",
    "uriage.loc[flag & flag_null, 'item_price'] = mean_data"
   ]
  },
  {
   "cell_type": "code",
   "execution_count": null,
   "metadata": {},
   "outputs": [],
   "source": [
    "uriage.loc[flag & flag_null]"
   ]
  },
  {
   "cell_type": "code",
   "execution_count": null,
   "metadata": {},
   "outputs": [],
   "source": [
    "# item_name의 중복 데이터를 제거하고 유니크한 데이터만 추출\n",
    "# case1 (set 데이터형태 사용)\n",
    "list(set(uriage['item_name']))"
   ]
  },
  {
   "cell_type": "code",
   "execution_count": null,
   "metadata": {},
   "outputs": [],
   "source": [
    "# case2 (unique()함수를 이용)\n",
    "uriage['item_name'].unique()"
   ]
  },
  {
   "cell_type": "code",
   "execution_count": 51,
   "metadata": {},
   "outputs": [
    {
     "data": {
      "text/plain": [
       "item_name\n",
       "상품S    140\n",
       "상품A    139\n",
       "상품R    136\n",
       "상품P    135\n",
       "상품V    134\n",
       "상품C    133\n",
       "상품F    126\n",
       "상품D    125\n",
       "상품Q    125\n",
       "상품O    124\n",
       "상품W    121\n",
       "상품N    119\n",
       "상품T    117\n",
       "상품J    116\n",
       "상품X    116\n",
       "상품I    114\n",
       "상품B    113\n",
       "상품M    113\n",
       "상품L    110\n",
       "상품G    110\n",
       "상품K    109\n",
       "상품H    109\n",
       "상품U    107\n",
       "상품E    105\n",
       "상품Y    102\n",
       "상품Z      1\n",
       "Name: count, dtype: int64"
      ]
     },
     "execution_count": 51,
     "metadata": {},
     "output_type": "execute_result"
    }
   ],
   "source": [
    "# case3 (value_count()함수 이용)\n",
    "uriage['item_name'].value_counts()"
   ]
  },
  {
   "cell_type": "code",
   "execution_count": 52,
   "metadata": {},
   "outputs": [
    {
     "data": {
      "text/plain": [
       "Index(['상품S', '상품A', '상품R', '상품P', '상품V', '상품C', '상품F', '상품D', '상품Q', '상품O',\n",
       "       '상품W', '상품N', '상품T', '상품J', '상품X', '상품I', '상품B', '상품M', '상품L', '상품G',\n",
       "       '상품K', '상품H', '상품U', '상품E', '상품Y', '상품Z'],\n",
       "      dtype='object', name='item_name')"
      ]
     },
     "execution_count": 52,
     "metadata": {},
     "output_type": "execute_result"
    }
   ],
   "source": [
    "(uriage['item_name'].value_counts()).index"
   ]
  },
  {
   "cell_type": "code",
   "execution_count": 53,
   "metadata": {},
   "outputs": [
    {
     "data": {
      "text/plain": [
       "['상품A',\n",
       " '상품S',\n",
       " '상품Z',\n",
       " '상품V',\n",
       " '상품O',\n",
       " '상품U',\n",
       " '상품L',\n",
       " '상품C',\n",
       " '상품I',\n",
       " '상품R',\n",
       " '상품X',\n",
       " '상품G',\n",
       " '상품P',\n",
       " '상품Q',\n",
       " '상품Y',\n",
       " '상품N',\n",
       " '상품W',\n",
       " '상품E',\n",
       " '상품K',\n",
       " '상품B',\n",
       " '상품F',\n",
       " '상품D',\n",
       " '상품M',\n",
       " '상품H',\n",
       " '상품T',\n",
       " '상품J']"
      ]
     },
     "execution_count": 53,
     "metadata": {},
     "output_type": "execute_result"
    }
   ],
   "source": [
    "# case4 (위의 3가지 방법이 기억이 안나면 반복문 사용)\n",
    "item_list = []\n",
    "\n",
    "for i in uriage['item_name']:\n",
    "    # print(i)\n",
    "    if i not in item_list:\n",
    "        # item_list에 i의 값이 포함되어있지 않다면\n",
    "        item_list.append(i)\n",
    "        \n",
    "item_list"
   ]
  },
  {
   "cell_type": "code",
   "execution_count": 54,
   "metadata": {},
   "outputs": [
    {
     "name": "stdout",
     "output_type": "stream",
     "text": [
      "상품A\n",
      "상품S\n",
      "상품Z\n",
      "상품V\n",
      "상품O\n",
      "상품U\n",
      "상품L\n",
      "상품C\n",
      "상품I\n",
      "상품R\n",
      "상품X\n",
      "상품G\n",
      "상품P\n",
      "상품Q\n",
      "상품Y\n",
      "상품N\n",
      "상품W\n",
      "상품E\n",
      "상품K\n",
      "상품B\n",
      "상품F\n",
      "상품D\n",
      "상품M\n",
      "상품H\n",
      "상품T\n",
      "상품J\n"
     ]
    }
   ],
   "source": [
    "for item in item_list:\n",
    "    print(item)\n",
    "    flag = uriage['item_name'] == item\n",
    "    flag_null = uriage['item_price'].isna()\n",
    "    mean_data = uriage.loc[flag & ~flag_null, 'item_price'].mean()\n",
    "    uriage.loc[flag & flag_null, 'item_price'] = mean_data"
   ]
  },
  {
   "cell_type": "code",
   "execution_count": 55,
   "metadata": {},
   "outputs": [
    {
     "data": {
      "text/plain": [
       "purchase_date    0\n",
       "item_name        0\n",
       "item_price       0\n",
       "customer_name    0\n",
       "dtype: int64"
      ]
     },
     "execution_count": 55,
     "metadata": {},
     "output_type": "execute_result"
    }
   ],
   "source": [
    "uriage.isna().sum()"
   ]
  },
  {
   "cell_type": "code",
   "execution_count": 60,
   "metadata": {},
   "outputs": [
    {
     "data": {
      "text/plain": [
       "1000.0"
      ]
     },
     "execution_count": 60,
     "metadata": {},
     "output_type": "execute_result"
    }
   ],
   "source": [
    "flat = uriage['item_name'] == '상품E'\n",
    "uriage.loc[flag, 'item_price'].mean()"
   ]
  },
  {
   "cell_type": "code",
   "execution_count": null,
   "metadata": {},
   "outputs": [],
   "source": [
    "df = pd.DataFrame(\n",
    "    [\n",
    "        [1,2,3],\n",
    "        [4,5,6]\n",
    "    ],\n",
    "    columns=['A','B','C']\n",
    ")"
   ]
  },
  {
   "cell_type": "code",
   "execution_count": null,
   "metadata": {},
   "outputs": [],
   "source": [
    "df"
   ]
  },
  {
   "cell_type": "code",
   "execution_count": null,
   "metadata": {},
   "outputs": [],
   "source": [
    "df['C'] = 10"
   ]
  },
  {
   "cell_type": "code",
   "execution_count": null,
   "metadata": {},
   "outputs": [],
   "source": []
  }
 ],
 "metadata": {
  "kernelspec": {
   "display_name": "Python 3",
   "language": "python",
   "name": "python3"
  },
  "language_info": {
   "codemirror_mode": {
    "name": "ipython",
    "version": 3
   },
   "file_extension": ".py",
   "mimetype": "text/x-python",
   "name": "python",
   "nbconvert_exporter": "python",
   "pygments_lexer": "ipython3",
   "version": "3.12.0"
  }
 },
 "nbformat": 4,
 "nbformat_minor": 2
}
